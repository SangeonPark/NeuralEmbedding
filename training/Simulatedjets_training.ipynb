{
 "cells": [
  {
   "cell_type": "code",
   "execution_count": null,
   "metadata": {},
   "outputs": [],
   "source": [
    "import os\n",
    "import torch\n",
    "from torch import nn\n",
    "import torch.nn.functional as F\n",
    "from torch.utils.data import DataLoader, random_split\n",
    "import pytorch_lightning as pl\n",
    "from pytorch_lightning import Trainer\n",
    "from pytorch_lightning.callbacks.early_stopping import EarlyStopping\n",
    "from pytorch_lightning.callbacks import ModelCheckpoint\n",
    "from manifoldembedder import *"
   ]
  },
  {
   "cell_type": "code",
   "execution_count": null,
   "metadata": {},
   "outputs": [],
   "source": [
    "%matplotlib inline\n",
    "import matplotlib.pyplot as plt\n",
    "plt.rcParams[\"figure.figsize\"] = (6,6)\n",
    "plt.rcParams.update({'font.size': 14})"
   ]
  },
  {
   "cell_type": "code",
   "execution_count": null,
   "metadata": {},
   "outputs": [],
   "source": [
    "train_file_list = []\n",
    "val_file_list = []\n",
    "test_file_list = []\n",
    "predict_file_list = []\n",
    "\n",
    "basedir = '/nobackup/users/sangeon/datasets/jetGridpack/jetpairs'\n",
    "\n",
    "\n",
    "\n",
    "for file in os.listdir(basedir):\n",
    "    if \"train\" in file:\n",
    "        train_file_list.append(os.path.join(basedir,file))\n",
    "    elif \"val\" in file:\n",
    "        val_file_list.append(os.path.join(basedir,file))\n",
    "    elif \"predict\" in file:\n",
    "        predict_file_list.append(os.path.join(basedir,file))\n",
    "    elif \"test\" in file:\n",
    "        test_file_list.append(os.path.join(basedir,file))"
   ]
  },
  {
   "cell_type": "code",
   "execution_count": null,
   "metadata": {},
   "outputs": [],
   "source": [
    "file_dict = {'train':os.path.join(basedir, 'Gridpack_jettrain_16part_merged.pt'),\n",
    "             'val':os.path.join(basedir, 'Gridpack_jetval_16part_merged.pt'),\n",
    "             'test':os.path.join(basedir, 'Gridpack_jetpredict_16part_merged.pt'),\n",
    "             'predict':os.path.join(basedir, 'Gridpack_jetpredict_16part_merged.pt')}"
   ]
  },
  {
   "cell_type": "markdown",
   "metadata": {},
   "source": [
    "# Paper"
   ]
  },
  {
   "cell_type": "code",
   "execution_count": null,
   "metadata": {},
   "outputs": [],
   "source": [
    "jet_dm = JetDataModule(file_dict,2000)\n",
    "model = ManifoldEmbedder(\"jets\",2,\"Transformer\", 0.0005, [32, 4, 3, 2, 2, 16, 0.2,0.20, [1000,400,20]])\n",
    "\n",
    "#For Hyperbolic Embedding\n",
    "#model = HyperbolicEmbedder(\"jets\",2,\"Transformer\", 0.00054607179632484, 1e-8, 1e-4, [32,4,3,2,2,16,0.25,0.25,[1000,500,20]])\n"
   ]
  },
  {
   "cell_type": "code",
   "execution_count": null,
   "metadata": {},
   "outputs": [],
   "source": [
    "early_stop_callback = EarlyStopping(monitor=\"val_loss\", min_delta=0.00, patience=5, verbose=False)\n",
    "checkpoint_callback = ModelCheckpoint(\n",
    "    monitor=\"val_loss\",\n",
    "    dirpath=\"/home/sangeon/ToyJetGenerator/training/simulatedtoyjets_checkpoints\",\n",
    "    filename=\"Transformer-paper-finaltuning-trywithp-{epoch:02d}-{val_loss:.2f}\",\n",
    "    save_top_k=4,\n",
    "    mode=\"min\",\n",
    ")"
   ]
  },
  {
   "cell_type": "code",
   "execution_count": null,
   "metadata": {},
   "outputs": [],
   "source": [
    "trainer = Trainer(gpus=1,callbacks=[PrintCallbacks(),early_stop_callback,checkpoint_callback],auto_lr_find=True)"
   ]
  },
  {
   "cell_type": "code",
   "execution_count": null,
   "metadata": {},
   "outputs": [],
   "source": [
    "trainer.fit(model, jet_dm)"
   ]
  },
  {
   "cell_type": "code",
   "execution_count": null,
   "metadata": {},
   "outputs": [],
   "source": [
    "#model = ManifoldEmbedder.load_from_checkpoint(\"./simulatedtoyjets_checkpoints/Transformer-paper-finaltuning-try6-epoch=00-val_loss=0.28.ckpt\")"
   ]
  },
  {
   "cell_type": "code",
   "execution_count": null,
   "metadata": {},
   "outputs": [],
   "source": [
    "model.eval()\n",
    "a = trainer.predict(model, jet_dm)"
   ]
  },
  {
   "cell_type": "code",
   "execution_count": null,
   "metadata": {},
   "outputs": [],
   "source": [
    "label = np.array([])\n",
    "embedding = np.empty((0,2))\n",
    "for batch in a:\n",
    "    embedding = np.vstack((embedding, batch[0].cpu().numpy()))\n",
    "    label = np.concatenate([label, batch[1].cpu().numpy()])\n"
   ]
  },
  {
   "cell_type": "code",
   "execution_count": null,
   "metadata": {},
   "outputs": [],
   "source": [
    "%matplotlib inline\n",
    "import matplotlib.pyplot as plt\n",
    "plt.rcParams[\"figure.figsize\"] = (6,6)\n",
    "plt.rcParams.update({'font.size': 14})"
   ]
  },
  {
   "cell_type": "code",
   "execution_count": null,
   "metadata": {},
   "outputs": [],
   "source": [
    "namelist = ['QCD','2p25','2p170','3p25','3p170','4p170','4p400']"
   ]
  },
  {
   "cell_type": "code",
   "execution_count": null,
   "metadata": {},
   "outputs": [],
   "source": [
    "fig = plt.figure()\n",
    "ax = fig.add_subplot(1,1,1)\n",
    "for i in range(7):\n",
    "    ax.scatter(embedding[label==i][:10000,0],embedding[label==i][:10000,1],s=10,alpha=0.10,label=namelist[i])\n",
    "\n",
    "ax.set_xlabel('X')\n",
    "ax.set_ylabel('Y')\n",
    "ax.set_xlim([0,0.8])\n",
    "ax.set_ylim([-0.9,0.25])\n",
    "leg = ax.legend()\n",
    "for lh in leg.legendHandles: \n",
    "    lh.set_alpha(1)\n",
    "    \n",
    "ax.set_title('Simulated Jet Embedding')    \n"
   ]
  },
  {
   "cell_type": "code",
   "execution_count": null,
   "metadata": {},
   "outputs": [],
   "source": [
    "fig = plt.figure()\n",
    "ax = fig.add_subplot(1,1,1)\n",
    "for i in range(7):\n",
    "    ax.scatter(embedding[label==i][:1000,0],embedding[label==i][:1000,1],s=10,alpha=0.20,label=namelist[i])\n",
    "\n",
    "ax.set_xlabel('X')\n",
    "ax.set_ylabel('Y')\n",
    "ax.set_xlim([-0.4,0.0])\n",
    "ax.set_ylim([0.12,0.22])\n",
    "leg = ax.legend()\n",
    "for lh in leg.legendHandles: \n",
    "    lh.set_alpha(1)\n",
    "    \n",
    "ax.set_title('Simulated Jet Embedding')    "
   ]
  },
  {
   "cell_type": "code",
   "execution_count": null,
   "metadata": {},
   "outputs": [],
   "source": [
    "from scipy import stats\n",
    "\n",
    "def plot_kde(ax, whichlabel, color):\n",
    "\n",
    "    xmin, xmax = [-0.5,0.3]\n",
    "    ymin, ymax = [0,0.35]\n",
    "    X, Y = np.mgrid[xmin:xmax:100j, ymin:ymax:100j]\n",
    "    positions = np.vstack([X.ravel(), Y.ravel()])\n",
    "    kernel = stats.gaussian_kde(embedding[label==whichlabel][:10000].T)\n",
    "    Z = np.reshape(kernel(positions).T, X.shape)\n",
    "    Z /= Z.max()\n",
    "    CS = ax.contour(X,Y,Z,levels=[0.3,0.6],colors=color, alpha=0.8)\n",
    "\n",
    "    return CS\n"
   ]
  },
  {
   "cell_type": "code",
   "execution_count": null,
   "metadata": {},
   "outputs": [],
   "source": [
    "fig = plt.figure()\n",
    "ax = fig.add_subplot(1,1,1)\n",
    "\n",
    "lines = []\n",
    "for i in range(7):\n",
    "    CS = plot_kde(ax, i, f'C{i}')\n",
    "    lines.append(CS.collections[0])\n",
    "\n",
    "\n",
    "ax.set_xlabel('X')\n",
    "ax.set_ylabel('Y')\n",
    "ax.set_xlim([-0.4,0.0])\n",
    "ax.set_ylim([0.12,0.21])\n",
    "ax.legend(lines, namelist)\n",
    "ax.set_title('Simulated Jet Embedding')    \n"
   ]
  },
  {
   "cell_type": "code",
   "execution_count": null,
   "metadata": {},
   "outputs": [],
   "source": []
  }
 ],
 "metadata": {
  "kernelspec": {
   "display_name": "studies",
   "language": "python",
   "name": "studies"
  },
  "language_info": {
   "codemirror_mode": {
    "name": "ipython",
    "version": 3
   },
   "file_extension": ".py",
   "mimetype": "text/x-python",
   "name": "python",
   "nbconvert_exporter": "python",
   "pygments_lexer": "ipython3",
   "version": "3.8.12"
  }
 },
 "nbformat": 4,
 "nbformat_minor": 4
}
