{
 "cells": [
  {
   "cell_type": "code",
   "execution_count": null,
   "metadata": {},
   "outputs": [],
   "source": [
    "import sys\n",
    "sys.path.insert(0,'..')\n",
    "from datagenerator import jet_data_generator \n",
    "import time\n",
    "import pickle\n",
    "import numpy as np\n",
    "from sklearn.model_selection import train_test_split\n",
    "from tqdm import tqdm\n",
    "import torch\n",
    "import os\n",
    "import pandas as pd\n",
    "\n",
    "sys.path.insert(0,'../training')\n",
    "from manifoldembedder import JetDataset, JetPredictDataset\n",
    "from torch.utils.data import DataLoader, random_split"
   ]
  },
  {
   "cell_type": "markdown",
   "metadata": {},
   "source": [
    "# Pair Jet Data Generation"
   ]
  },
  {
   "cell_type": "code",
   "execution_count": null,
   "metadata": {},
   "outputs": [],
   "source": [
    "savedir   = '/nobackup/users/sangeon/datasets/jetGridpack/jetpairs/'\n",
    "rawjetdir = '/nobackup/users/sangeon/datasets/jetGridpack/rawjets/'\n",
    "type_arr  = [['QCD','QCD',''],['2p','twoprong','_80'],['2p','twoprong','_400'],['3p','threeprong','_80'],['3p','threeprong','_400']]\n",
    "len_train = 1000000\n",
    "len_half  = 500000\n",
    "start = time.time()\n",
    "for i in range(0,2000):\n",
    "    np.random.seed()\n",
    "    type_1 = type_arr[np.random.randint(0,5)]\n",
    "    np.random.seed()\n",
    "    type_2 = type_arr[np.random.randint(0,5)]\n",
    "\n",
    "    df1 = pd.read_hdf(os.path.join(rawjetdir,type_1[0],f'{type_1[1]}{type_1[2]}.h5'))\n",
    "    df2 = pd.read_hdf(os.path.join(rawjetdir,type_2[0],f'{type_2[1]}{type_2[2]}.h5'))\n",
    "    A = df1.values\n",
    "    B = df2.values\n",
    "    \n",
    "    np.random.seed()\n",
    "    perm = np.random.permutation(len_train)\n",
    "    print(os.path.join(rawjetdir,type_1[0],f'{type_1[1]}{type_1[2]}.h5'))\n",
    "    print(os.path.join(rawjetdir,type_2[0],f'{type_2[1]}{type_2[2]}.h5'))\n",
    "    \n",
    "    train_set = JetDataset(False, None, False, A[perm[:10000]],B[perm[len_half:len_half+10000]],16)\n",
    "    torch.save(train_set, os.path.join(savedir,f'Gridpack_jetpair_train_16part_{i}.pt'))\n",
    "    \n",
    "end = time.time()\n",
    "print('total time', end-start)"
   ]
  },
  {
   "cell_type": "code",
   "execution_count": null,
   "metadata": {},
   "outputs": [],
   "source": [
    "idx_list = []\n",
    "for i in range(5):\n",
    "    for j in range(5):\n",
    "        idx_list.append([i,j])\n",
    "        \n",
    "\n",
    "\n",
    "savedir   = '/nobackup/users/sangeon/datasets/jetGridpack/jetpairs/'\n",
    "rawjetdir = '/nobackup/users/sangeon/datasets/jetGridpack/rawjets/'\n",
    "type_arr  = [['QCD','QCD',''],['2p','twoprong','_80'],['2p','twoprong','_400'],['3p','threeprong','_80'],['3p','threeprong','_400']]\n",
    "len_val = 200000\n",
    "len_half  = 100000\n",
    "start = time.time()\n",
    "for idx in range(25):\n",
    "    np.random.seed()\n",
    "\n",
    "    type_1 = type_arr[idx_list[idx][0]]\n",
    "    type_2 = type_arr[idx_list[idx][1]]\n",
    "    print(type_1, type_2)\n",
    "    \n",
    "    df1 = pd.read_hdf(os.path.join(rawjetdir,type_1[0],f'{type_1[1]}{type_1[2]}_val.h5'))\n",
    "    df2 = pd.read_hdf(os.path.join(rawjetdir,type_2[0],f'{type_2[1]}{type_2[2]}_val.h5'))\n",
    "    A = df1.values\n",
    "    B = df2.values\n",
    "    \n",
    "    np.random.seed()\n",
    "    perm = np.random.permutation(len_val)\n",
    "\n",
    "    print(os.path.join(rawjetdir,type_1[0],f'{type_1[1]}{type_1[2]}_val.h5'))\n",
    "    print(os.path.join(rawjetdir,type_2[0],f'{type_2[1]}{type_2[2]}_val.h5'))\n",
    "    \n",
    "    val_set = JetDataset(False, None, False, A[perm[:len_half]],B[perm[len_half:]],16)\n",
    "    torch.save(val_set, os.path.join(savedir,f'Gridpack_jetpair_val_16part_{idx}.pt'))\n",
    "    \n",
    "end = time.time()\n",
    "print('total time', end-start)"
   ]
  },
  {
   "cell_type": "markdown",
   "metadata": {},
   "source": [
    "# Predict, Test Dataset"
   ]
  },
  {
   "cell_type": "code",
   "execution_count": null,
   "metadata": {},
   "outputs": [],
   "source": [
    "rawjetdir = '/nobackup/users/sangeon/datasets/jetGridpack/rawjets/'\n",
    "type_arr  = [['QCD','QCD',''],['2p','twoprong','_80_predict'],['2p','twoprong','_400_predict'],['3p','threeprong','_80_predict'],['3p','threeprong','_400_predict'],['4p','fourprong','_170'],['4p','fourprong','_400']]\n",
    "set_list = []\n",
    "name_list = ['QCD','2p25','2p170','3p25','3p170','4p170','4p400']\n",
    "\n",
    "results = np.empty((0,54))\n",
    "predict_label = np.empty((0))\n",
    "for i, (name, jettype) in enumerate(zip(name_list, type_arr)):\n",
    "    df = pd.read_hdf(os.path.join(rawjetdir,jettype[0],f'{jettype[1]}{jettype[2]}.h5'))\n",
    "    print(df.values.shape)\n",
    "    data = df.values[:,:54]\n",
    "    data = data[:100000]\n",
    "    results = np.vstack([results, data])\n",
    "    print(df.values.shape[0])\n",
    "    print(name, jettype)\n",
    "    predict_label = np.concatenate([predict_label, np.repeat(i, data.shape[0])])"
   ]
  },
  {
   "cell_type": "code",
   "execution_count": null,
   "metadata": {},
   "outputs": [],
   "source": [
    "predict_set = JetPredictDataset(False,None,False, results,predict_label,16)\n",
    "torch.save(predict_set, f'/nobackup/users/sangeon/datasets/jetGridpack/jetpairs/Gridpack_jetpair_secondensemble_predict.pt')"
   ]
  }
 ],
 "metadata": {
  "kernelspec": {
   "display_name": "studies",
   "language": "python",
   "name": "studies"
  },
  "language_info": {
   "codemirror_mode": {
    "name": "ipython",
    "version": 3
   },
   "file_extension": ".py",
   "mimetype": "text/x-python",
   "name": "python",
   "nbconvert_exporter": "python",
   "pygments_lexer": "ipython3",
   "version": "3.8.12"
  }
 },
 "nbformat": 4,
 "nbformat_minor": 4
}
